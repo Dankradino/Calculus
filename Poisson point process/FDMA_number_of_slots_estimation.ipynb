{
 "cells": [
  {
   "cell_type": "markdown",
   "metadata": {},
   "source": [
    "# Project OFDMA MACS207b\n",
    "\n",
    "- Tancrède Martinez\n",
    "\n",
    "- Selyan Chergui"
   ]
  },
  {
   "cell_type": "markdown",
   "metadata": {},
   "source": [
    "### Model\n",
    "\n",
    "\n",
    "#### a. Number of subcarriers needed to communicate\n",
    "Let N(x) be the number of subcarriers needed by a user located at x, who wants to communicate at rate $C$, the number of subcarriers needed $N(x)$ is given by:\n",
    "\n",
    "$$\n",
    "N(x)=\\lceil \\frac{C}{W \\log_2\\left(1+\\frac{K}{{\\lVert x \\rVert}^\\gamma}\\right)} \\rceil \\ \\ \\text{if} \\ \\ K \\lVert x \\rVert^{-\\gamma} >\\text{SNR}_{min}\n",
    "$$\n",
    "\n",
    "Also the number of slots per user is bounded by: \n",
    "\n",
    "$$ N_{max} = \\lceil \\frac{C}{W \\log_2\\left(1+\\text{SNR}_{min}\\right)} \\rceil $$\n",
    "\n",
    "#### b. Distribution of the users\n",
    "We consider that users are represented by a Poisson process of intensity measure $λ dx$ and that there is a percentage $p$ of active users in a timeslot.   \n",
    "The access point is located at $(0, 0)$. The observation window is a circle of radius $R$.\n"
   ]
  },
  {
   "cell_type": "markdown",
   "metadata": {},
   "source": [
    "### Questions"
   ]
  },
  {
   "cell_type": "markdown",
   "metadata": {},
   "source": [
    "Before starting, quick computation give that $ K \\lVert x \\rVert^{-\\gamma} >\\text{SNR}_{min} $ if and only if $\\lVert x \\rVert \\geq 316$\n",
    "\n",
    "Hence R is lower than this bound we will not have to consider different case in our computation."
   ]
  },
  {
   "cell_type": "markdown",
   "metadata": {},
   "source": [
    "### 1. Show that the process of active customers is a Poisson process. Give its intensity measure.\n",
    "\n",
    "Let $\\mathcal{B}((0,0),R)$ denote the disk of center (0,0) and of radius R\n",
    "\n",
    "The process of users is given by $U$ following a Poisson process of intensity measure $\\lambda dx$\n",
    "\n",
    "Then according to our modelisation, the process of active user is given by:\n",
    "\n",
    "$ \\phi= p \\circ U $ which by course theorem follow a point poisson process of control measure $\\sigma =p \\lambda dx $ "
   ]
  },
  {
   "cell_type": "markdown",
   "metadata": {},
   "source": [
    "### 2. What is the mean number of active customers in the cell ?\n",
    "\n",
    "$\\mathbb{E}[[\\phi (\\mathcal{B}((0,0),R))] = p \\lambda \\pi R^2$ hence $\\phi (\\mathcal{B}((0,0),R)) \\sim \\mathcal{P}(\\sigma(\\mathcal{B}((0,0),R))) $"
   ]
  },
  {
   "cell_type": "markdown",
   "metadata": {},
   "source": [
    "### 3. For k = 1, · · · , Nmax, characterize geometrically the subset of the cell in which all customers require k subcarriers.\n",
    "\n",
    "$$A_k = \\lbrace x \\in \\phi ,N(x) = k \\rbrace $$\n",
    "\n",
    "Geometrically,  it is $\\phi \\cap (\\mathcal{B}((0,0),x_{k}) \\setminus \\mathcal{B}((0,0),x_{k-1})) $ with $x_k= (\\frac K {2^{\\frac C {wk}} -1} )^{\\frac 1 \\gamma}$ and $x_0=0$, considering $\\phi$ as a set of points\n",
    "\n",
    "\n",
    "So it is the difference of two circles intersected with the set active users"
   ]
  },
  {
   "cell_type": "markdown",
   "metadata": {},
   "source": [
    "### 4. What is the distribution of A3, the number of customers requiring 3 subcarriers ? \n",
    "\n",
    "According to course, $\\phi(A_3)$ follow a point poisson process:\n",
    "$\\phi(A_3) \\sim \\mathcal{P}(\\sigma(A_3)) \\sim \\mathcal{P}(p \\lambda \\pi(x_3^2 - x_2^2) )$"
   ]
  },
  {
   "cell_type": "markdown",
   "metadata": {},
   "source": [
    "### 5. Using the Kolmogorov-Smirnov test, how can you corroborate this result by simulation ?\n",
    "\n",
    "We can confirm this results by simulation by approximating the distribution function and comparing to the poisson distribution function"
   ]
  },
  {
   "cell_type": "markdown",
   "metadata": {},
   "source": [
    "### 6. Show that F can be written as $F (\\phi) = \\sum _{k=1}^{N_{max}} k \\zeta _k$ where $\\zeta _k $ independant following a poisson law\n",
    "\n",
    "$F (\\phi) = \\sum _{x \\in \\phi} N(x) = \\sum _{x \\in \\phi} \\sum _{k=1}^{N_{max}} k \\mathcal{1}_{N(x)=k} = =  \\sum _{k=1}^{N_{max}} k \\sum _{x \\in \\phi}  \\mathcal{1}_{N(x)=k} = \\sum _{k=1}^{N_{max}} k \\phi(A_k)$\n",
    "\n",
    "According to course, hence $A_i \\cap A_j = \\emptyset \\Rightarrow$ $\\phi(A_i)$ and $\\phi(A_j)$ are independant and follow poisson distribution of parameter $p \\lambda \\pi (x_{i}^2 - x_{i-1}^2)$ and $p \\lambda \\pi (x_{j}^2 - x_{j-1}^2) $"
   ]
  },
  {
   "cell_type": "markdown",
   "metadata": {},
   "source": [
    "### 7. $\\mathbb{E}(e^{\\theta X_\\mu})=e^{-\\mu (1- e^{\\theta})}$\n",
    "\n",
    "We deduce $e^{-K \\mu \\theta }\\mathbb{E}(e^{\\theta X_\\mu})$ is minimal for $\\theta = ln K$ so \n",
    "\n",
    "$min_{\\theta > 0} e^{-K \\mu \\theta }\\mathbb{E}(e^{\\theta X_\\mu})= e^{-\\mu (K (ln K -1) +1 )}$"
   ]
  },
  {
   "cell_type": "markdown",
   "metadata": {},
   "source": [
    "### 8. Look for the first K such that $e^{-\\mu (K (ln K -1) +1 )} \\leq 10^{-4}$ \n",
    "\n",
    "i.e $K (ln K -1) \\geq \\frac {4 ln(10)} \\mu - 1$ that we can find using numerical method\n",
    "\n",
    "Hence we only need to really represent the distribution up to K, knowing that higher value are of really low probability (summing up to $10^{-4}$)"
   ]
  },
  {
   "cell_type": "code",
   "execution_count": null,
   "metadata": {},
   "outputs": [
    {
     "name": "stdout",
     "output_type": "stream",
     "text": [
      "35.5\n"
     ]
    }
   ],
   "source": [
    "from numpy import log \n",
    "def K(mu,step):\n",
    "    K=step\n",
    "    while K*(log(K)-1)-4*log(10)/mu+1<0:\n",
    "        K+=step\n",
    "    return K\n",
    "mu=0.1\n",
    "step=0.5\n",
    "print(K(mu,step))"
   ]
  },
  {
   "cell_type": "markdown",
   "metadata": {},
   "source": [
    "### 9. Coding Part"
   ]
  },
  {
   "cell_type": "code",
   "execution_count": null,
   "metadata": {},
   "outputs": [],
   "source": [
    "import numpy as np\n",
    "import matplotlib.pyplot as plt"
   ]
  },
  {
   "cell_type": "code",
   "execution_count": null,
   "metadata": {},
   "outputs": [],
   "source": [
    "C= 200*10**3\n",
    "W= 250*10**3\n",
    "K= 10**6\n",
    "gamma= 2.8\n",
    "R=300\n",
    "lamb= 0.01\n",
    "SNR_min= 0.1\n",
    "p=0.01      \n",
    "S_min=30\n",
    "S_max=100\n",
    "\n",
    "def N_slot(x):\n",
    "    ''' Compute the number of slot required for an active user at position x'''\n",
    "    return int(np.floor(C/(W*np.log2(1+K/np.linalg.norm(x)**gamma)))+1)"
   ]
  },
  {
   "cell_type": "code",
   "execution_count": null,
   "metadata": {},
   "outputs": [
    {
     "name": "stdout",
     "output_type": "stream",
     "text": [
      "N_max is : 6\n"
     ]
    },
    {
     "data": {
      "text/plain": [
       "Text(0.5, 1.0, 'Simulation of active users observation')"
      ]
     },
     "execution_count": 150,
     "metadata": {},
     "output_type": "execute_result"
    },
    {
     "data": {
      "image/png": "[encoded data removed]",
      "text/plain": [
       "<Figure size 640x480 with 1 Axes>"
      ]
     },
     "metadata": {},
     "output_type": "display_data"
    }
   ],
   "source": [
    "#Simulation of active user\n",
    "\n",
    "N_max= int(np.floor(C/(W*np.log2(1+SNR_min)))+1)\n",
    "print('N_max is :' ,N_max)\n",
    "\n",
    "def active_user(lamb,p,R):\n",
    "    ''' Return a simulation of the number of observed active user with given parameters lamb, p and an observation radius R'''\n",
    "    N=[]\n",
    "    M=np.random.poisson(np.pi*R**2*p*lamb)\n",
    "    for i in range(M):\n",
    "        #Simulation of uniform law over the disk according to https://rh8liuqy.github.io/Uniform_Disk.html\n",
    "        U_1= np.random.random()\n",
    "        U_2= np.random.random()\n",
    "        X,Y= R*np.sqrt(U_2)*np.cos(2*np.pi*U_1), R*np.sqrt(U_2)*np.sin(2*np.pi*U_1)\n",
    "        N.append(np.array([X,Y]))\n",
    "    return np.array(N)\n",
    "\n",
    "\n",
    "# Example of a user distribution\n",
    "N=active_user(lamb,p,R)\n",
    "plt.plot(N[:,0],N[:,1],'bo')\n",
    "plt.title('Simulation of active users observation')"
   ]
  },
  {
   "cell_type": "code",
   "execution_count": null,
   "metadata": {},
   "outputs": [
    {
     "name": "stdout",
     "output_type": "stream",
     "text": [
      "Empirical mean of ksi is :  [7.515 6.198 5.093 4.762 4.436 0.248]\n",
      "Supremum of dimension :  22\n"
     ]
    }
   ],
   "source": [
    "def generate_ksi(lamb,p,R):\n",
    "    ''' Return an array representing [ksi_1, ksi_2 , ... , ksi_Nmax]'''\n",
    "    ksi_arr=np.zeros(N_max)\n",
    "    N_user=active_user(lamb,p,R)\n",
    "    for user in N_user:\n",
    "        try:\n",
    "            ksi_arr[N_slot(user)-1]+=1\n",
    "        except:\n",
    "            print(N_slot(user)-1-N_user)\n",
    "    return ksi_arr\n",
    "\n",
    "\n",
    "n_iter=10000\n",
    "mean_ksi=np.zeros(N_max)\n",
    "ksi_arr=np.zeros((n_iter,N_max))\n",
    "for i in range(n_iter):\n",
    "    ksi=generate_ksi(lamb,p,R)\n",
    "    mean_ksi+=ksi\n",
    "    ksi_arr[i]=ksi\n",
    "mean_ksi/=n_iter\n",
    "print('Empirical mean of ksi is : ', mean_ksi )\n",
    "K_=int(np.max(np.max(ksi_arr)))+1\n",
    "print('Supremum of dimension : ',K_)\n"
   ]
  },
  {
   "cell_type": "code",
   "execution_count": null,
   "metadata": {},
   "outputs": [
    {
     "name": "stdout",
     "output_type": "stream",
     "text": [
      "Empirical distribution of ksi 5 :  [0.779 0.197 0.021 0.003 0.    0.    0.    0.    0.    0.    0.    0.\n",
      " 0.    0.    0.    0.    0.    0.    0.    0.    0.    0.   ]\n"
     ]
    }
   ],
   "source": [
    "#ksi distribution computation\n",
    "ksi_distrib=np.zeros((N_max,K_))\n",
    "for ksi in ksi_arr:\n",
    "    for i in range(N_max):\n",
    "        #P(ksi_k = j) = ksi_distrib[k][j]\n",
    "        ksi_distrib[i][int(ksi[i])]+=1\n",
    "ksi_distrib/=n_iter\n",
    "\n",
    "i=5\n",
    "print('Empirical distribution of ksi ' + str(i) +' : ',ksi_distrib[i])"
   ]
  },
  {
   "cell_type": "code",
   "execution_count": null,
   "metadata": {},
   "outputs": [
    {
     "name": "stdout",
     "output_type": "stream",
     "text": [
      "Empirical distribution of F :  [0.    0.    0.    0.    0.    0.    0.    0.    0.    0.    0.    0.\n",
      " 0.    0.    0.    0.    0.    0.    0.001 0.001 0.    0.001 0.002 0.001\n",
      " 0.008 0.002 0.002 0.005 0.005 0.006 0.014 0.012 0.011 0.013 0.011 0.016\n",
      " 0.022 0.03  0.021 0.022 0.023 0.024 0.028 0.025 0.036 0.026 0.032 0.036\n",
      " 0.044 0.023 0.045 0.033 0.037 0.035 0.032 0.02  0.023 0.025 0.023 0.021\n",
      " 0.022 0.018 0.015 0.015 0.016 0.016 0.013 0.009 0.012 0.012 0.015 0.006\n",
      " 0.003 0.002 0.002 0.006 0.002 0.002 0.004 0.002 0.003 0.002 0.    0.003\n",
      " 0.    0.001 0.001 0.001 0.    0.    0.    0.    0.    0.    0.    0.\n",
      " 0.    0.    0.    0.    0.    0.    0.    0.    0.    0.    0.    0.\n",
      " 0.    0.    0.    0.    0.    0.    0.    0.    0.    0.    0.    0.\n",
      " 0.    0.    0.    0.    0.    0.    0.    0.    0.    0.    0.    0.   ]\n"
     ]
    }
   ],
   "source": [
    "#F distribution computation\n",
    "F_distrib=np.zeros(N_max*K_)\n",
    "for ksi in ksi_arr:\n",
    "    F_distrib[int(np.sum([i*ksi[i] for i in range(N_max)]))]+=1\n",
    "F_distrib/=n_iter\n",
    "\n",
    "print('Empirical distribution of F : ' ,F_distrib)"
   ]
  },
  {
   "cell_type": "code",
   "execution_count": null,
   "metadata": {},
   "outputs": [
    {
     "name": "stdout",
     "output_type": "stream",
     "text": [
      "We need approximately 80 slots if we want to cover slots demand with a probability of 0.99\n"
     ]
    }
   ],
   "source": [
    "non_outage_prob= 0.99\n",
    "S=0\n",
    "cumul_prob=0\n",
    "i=0\n",
    "while cumul_prob<non_outage_prob and i<N_max*K_+1:\n",
    "    S=i\n",
    "    cumul_prob+=F_distrib[i]\n",
    "    i+=1\n",
    "\n",
    "print('We need approximately',S, 'slots if we want to cover slots demand with a probability of 0.99')\n"
   ]
  }
 ],
 "metadata": {
  "kernelspec": {
   "display_name": "base",
   "language": "python",
   "name": "python3"
  },
  "language_info": {
   "codemirror_mode": {
    "name": "ipython",
    "version": 3
   },
   "file_extension": ".py",
   "mimetype": "text/x-python",
   "name": "python",
   "nbconvert_exporter": "python",
   "pygments_lexer": "ipython3",
   "version": "3.10.10"
  }
 },
 "nbformat": 4,
 "nbformat_minor": 2
}
